{
 "cells": [
  {
   "cell_type": "markdown",
   "id": "1a29c2b7",
   "metadata": {},
   "source": [
    "# Word2Vec 개선 (1) embedding 계층\n",
    "- 어휘가 100만개, 은닉층 뉴런이 100개인 CBOW 모델\n",
    "    - 입력층과 출력층에는 각 100만개의 뉴런이 존재\n",
    "        - 입력층의 원핫 표현과 가중치 행렬 W(in)의 곱 계산\n",
    "        - 은닉층과 가중치 행렬 W(out) 의 곱 및 Softmax 계층의 계산"
   ]
  },
  {
   "cell_type": "markdown",
   "id": "f799197d",
   "metadata": {},
   "source": [
    "- 원핫 표현 문제\n",
    "    - 어휘가 100만개라면 표현 하나만 해도 원소 수가 100만개인 벡터가 됨 -> 상당한 메모리 차지\n",
    "    - W(in) 행렬과 곱할 때 계산 자원을 상당히 사용\n",
    "        - **embedding 계층을 도입함으로써 해결**\n",
    "- 은닉층 이후 계산\n",
    "    - 은닉층과 가중치 행렬의 곱\n",
    "        - **네거티브 샘플링이라는 새로운 손실 함수를 도입함으로써 해결**"
   ]
  },
  {
   "cell_type": "markdown",
   "id": "f98ec141",
   "metadata": {},
   "source": [
    "### embedding 계층"
   ]
  },
  {
   "cell_type": "code",
   "execution_count": 1,
   "id": "d2b4980d",
   "metadata": {},
   "outputs": [
    {
     "name": "stdout",
     "output_type": "stream",
     "text": [
      "[[ 0  1  2]\n",
      " [ 3  4  5]\n",
      " [ 6  7  8]\n",
      " [ 9 10 11]\n",
      " [12 13 14]\n",
      " [15 16 17]\n",
      " [18 19 20]] \n",
      "\n",
      "[6 7 8]\n",
      "[15 16 17] \n",
      "\n",
      "[[ 3  4  5]\n",
      " [ 0  1  2]\n",
      " [ 9 10 11]\n",
      " [ 0  1  2]]\n"
     ]
    }
   ],
   "source": [
    "import numpy as np\n",
    "W = np.arange(21).reshape(7, 3)\n",
    "print(W, '\\n')\n",
    "\n",
    "# 특정 행을 출력하려면\n",
    "print(W[2])\n",
    "print(W[5],'\\n')\n",
    "\n",
    "# 여러 행을 한번에 출력하려면\n",
    "idx = np.array([1,0,3,0])\n",
    "print(W[idx])"
   ]
  },
  {
   "cell_type": "code",
   "execution_count": 1,
   "id": "92659ef9",
   "metadata": {},
   "outputs": [],
   "source": [
    "class Embedding:\n",
    "    def __init__(self, W):\n",
    "        self.params = [W]\n",
    "        self.grads = [np.zeros_like(W)]\n",
    "        self.idx = None\n",
    "\n",
    "    def forward(self, idx): # 위에서 구현한 코드 그대로 복붙\n",
    "        W, = self.params\n",
    "        self.idx = idx\n",
    "        out = W[idx]\n",
    "        return out\n",
    "\n",
    "    def backward(self, dout): \n",
    "        '''\n",
    "        embedding 계층의 순전파는 가중치 W의 특정 행을 추출할 뿐임\n",
    "        따라서 역전파에서는 앞 층으로부터 전해진 기울기를 다음 층으로 그대로 흘러주면 됨\n",
    "        다만, 앞 층으로부터 전해진 기울기를 가중치 기울기 dW의 특정 행에 설정함\n",
    "        '''\n",
    "        dW, = self.grads\n",
    "        dW[...] = 0\n",
    "        # dW[self.idx] = dout <- 나쁜 예시\n",
    "        '''(나쁜 예시 코드 설명)\n",
    "        가중치 기울기 dW를 꺼낸 다음 dW[...]=0 문장에서 dW의 원소를 0으로 덮어씀\n",
    "        그리고 앞 층에서 전해진 기울기 dout을 idx번째 행에 할당'''\n",
    "        np.add.at(dW, self.idx, dout)\n",
    "        # for i, word_id in enumerate(self.idx): dW[word_id] += dout[i]\n",
    "        return None "
   ]
  },
  {
   "cell_type": "markdown",
   "id": "dfa1e7c0",
   "metadata": {},
   "source": [
    "# Word2Vec 개선 (2) 네거티브 샘플링\n",
    "- 앞에서의 예에서 은닉층의 벡터 크기 100, 가중치 행렬의 크기가 100x100만\n",
    "    - 행렬 곱 계산에 시간이 오래 걸림, 메모리도 많이 필요함\n",
    "- Softmax에서도 같은 문제 발생\n",
    "    - 어휘가 많아지면 계산량이 증가함"
   ]
  },
  {
   "cell_type": "markdown",
   "id": "1a8ad381",
   "metadata": {},
   "source": [
    "### 다중 분류에서 이진 분류로\n",
    "- 다중 분류를 이진 분류로 근사하는 것\n",
    "- 지금까지는 맥락이 주어졌을 때 정답이 되는 단어를 높은 확률로 추측하도록 만듦\n",
    "    - 이제는 다중 분류 -> 이진 분류로\n",
    "    - ex) 맥락이 you, goodbye일 때, 타깃 단어는 say입니까? 라는 질문에 답하는 신경망을 생각\n",
    "    - 이렇게 하면 출력층에는 뉴런이 하나만 존재 -> say의 점수 출력\n",
    "    - 최종 점수 : 1x100의 은닉층, 100x100만의 출력 가중치에서 say에 해당하는 단어 벡터 추출 -> 그 벡터와 은닉층 뉴런가의 내적"
   ]
  },
  {
   "cell_type": "markdown",
   "id": "ecc0a8ec",
   "metadata": {},
   "source": [
    "### 시그모이드 함수와 교차 엔트로피 오차\n",
    "- 이진 분류 문제 -> 점수에 시그모이드 함수 적용 -> 확률로 변환 -> 손실 함수 : 교차 엔트로피 오차"
   ]
  },
  {
   "cell_type": "markdown",
   "id": "7fc361a0",
   "metadata": {},
   "source": [
    "### 다중 분류에서 이진 분류로 (구현)\n",
    "- params : 매개변수 저장\n",
    "- grads : 기울기 저장\n",
    "- embed : enbedding 계층\n",
    "- cache : 순전파 시의 계산 결과를 잠시 유지하기 위한 변수"
   ]
  },
  {
   "cell_type": "code",
   "execution_count": 2,
   "id": "649aa7ed",
   "metadata": {},
   "outputs": [],
   "source": [
    "class EmbeddingDot:\n",
    "    def __init__(self, W):\n",
    "        self.embed = Embedding(W)\n",
    "        self.params = self.embed.params\n",
    "        self.grads = self.embed.grads\n",
    "        self.cache = None\n",
    "\n",
    "    def forward(self, h, idx): \n",
    "        # idx = 단어 ID 배열 (데이터를 한꺼번에 처리하는 미니배치 처리를 가정했기 때문)\n",
    "        target_W = self.embed.forward(idx) # 벡터 불러오기\n",
    "        out = np.sum(target_W * h, axis=1) # 내적 계산\n",
    "\n",
    "        self.cache = (h, target_W)\n",
    "        return out\n",
    "\n",
    "    def backward(self, dout):\n",
    "        h, target_W = self.cache\n",
    "        dout = dout.reshape(dout.shape[0], 1)\n",
    "\n",
    "        dtarget_W = dout * h\n",
    "        self.embed.backward(dtarget_W)\n",
    "        dh = dout * target_W\n",
    "        return dh"
   ]
  },
  {
   "cell_type": "markdown",
   "id": "cf389d0f",
   "metadata": {},
   "source": [
    "### 네거티브 샘플링\n",
    "- 맞는 경우 1에 가깝게, 이외의 단어일 경우에는 0에 가깝게 만듦\n",
    "- 모든 부정적 예를 대상으로 하여 이진 분류를 학습?\n",
    "    - 어휘 수가 늘어나면 감당 불가\n",
    "    - **근사적 해법 : 부정적 예를 몇 개 선택 -> negative sampling**\n",
    "    \n",
    "    \n",
    "- 정리\n",
    "    - 네거티브 샘플링은 긍정적 예를 타깃으로 한 경우의 손실을 구하는 동시에 부정적 예 몇 개 샘플링하여 마찬가지로 손실을 구함\n",
    "    - 각각의 데이터의 손실을 더한 값을 최종 손실로 함"
   ]
  },
  {
   "cell_type": "markdown",
   "id": "c42bc55a",
   "metadata": {},
   "source": [
    "### 네거티브 샘플링의 샘플링 기법\n",
    "- 단순 무작위 샘플링?\n",
    "    - 말뭉치의 통계 데이터를 기초로 샘플링!\n",
    "    - 자주 등장하는 단어를 많이 추출하고, 드물게 등장하는 단어를 적게 추출!"
   ]
  },
  {
   "cell_type": "code",
   "execution_count": 3,
   "id": "6998dbd3",
   "metadata": {
    "scrolled": true
   },
   "outputs": [
    {
     "data": {
      "text/plain": [
       "'I'"
      ]
     },
     "execution_count": 3,
     "metadata": {},
     "output_type": "execute_result"
    }
   ],
   "source": [
    "import numpy as np\n",
    "np.random.choice(10)\n",
    "\n",
    "words = ['you','say','goodbye','I','hello','.']\n",
    "np.random.choice(words)\n",
    "\n",
    "# 5개 무작위 샘플링 (중복 있음)\n",
    "np.random.choice(words, size=5)\n",
    "# 5개 무작위 샘플링 (중복 없음)\n",
    "np.random.choice(words, size=5, replace=False)\n",
    "# 확률 분포에 따라 샘플링\n",
    "p = [0.5,0.1,0.05, 0.2, 0.05, 0.1]\n",
    "np.random.choice(words, p=p)"
   ]
  },
  {
   "cell_type": "code",
   "execution_count": 4,
   "id": "244990a6",
   "metadata": {},
   "outputs": [
    {
     "name": "stdout",
     "output_type": "stream",
     "text": [
      "[0.64196878 0.33150408 0.02652714]\n"
     ]
    }
   ],
   "source": [
    "'''\n",
    "기본 확률 분포에 0.75 제곱하기!\n",
    "출현 확률이 낮은 단어를 버리지 않기 위해서\n",
    "'''\n",
    "p = [0.7, 0.29, 0.01]\n",
    "new_p = np.power(p, 0.75)\n",
    "new_p /= np.sum(new_p)\n",
    "print(new_p)"
   ]
  },
  {
   "cell_type": "markdown",
   "id": "05835719",
   "metadata": {},
   "source": [
    "- 유니그램 : 하나의 연속된 단어를 뜻함\n",
    "- 바이그램, 트라이그램 ...\n",
    "    - 따라서 유니그램 버전 : 한 단어를 대상으로 확률분포를 만든다는 의미"
   ]
  },
  {
   "cell_type": "code",
   "execution_count": 5,
   "id": "6c7093d3",
   "metadata": {},
   "outputs": [],
   "source": [
    "from common.np import * \n",
    "from common.layers import Embedding, SigmoidWithLoss\n",
    "import collections\n",
    "\n",
    "class UnigramSampler:\n",
    "    def __init__(self, corpus, power, sample_size):\n",
    "        self.sample_size = sample_size\n",
    "        self.vocab_size = None\n",
    "        self.word_p = None\n",
    "\n",
    "        counts = collections.Counter()\n",
    "        for word_id in corpus:\n",
    "            counts[word_id] += 1\n",
    "\n",
    "        vocab_size = len(counts)\n",
    "        self.vocab_size = vocab_size\n",
    "\n",
    "        self.word_p = np.zeros(vocab_size)\n",
    "        for i in range(vocab_size):\n",
    "            self.word_p[i] = counts[i]\n",
    "\n",
    "        self.word_p = np.power(self.word_p, power)\n",
    "        self.word_p /= np.sum(self.word_p)\n",
    "\n",
    "    def get_negative_sample(self, target):\n",
    "        batch_size = target.shape[0]\n",
    "\n",
    "        if not GPU:\n",
    "            negative_sample = np.zeros((batch_size, self.sample_size), dtype=np.int32)\n",
    "\n",
    "            for i in range(batch_size):\n",
    "                p = self.word_p.copy()\n",
    "                target_idx = target[i]\n",
    "                p[target_idx] = 0\n",
    "                p /= p.sum()\n",
    "                negative_sample[i, :] = np.random.choice(self.vocab_size, size=self.sample_size, replace=False, p=p)\n",
    "        else:\n",
    "            # GPU(cupy）로 계산할 때는 속도를 우선한다.\n",
    "            # 부정적 예에 타깃이 포함될 수 있다.\n",
    "            negative_sample = np.random.choice(self.vocab_size, size=(batch_size, self.sample_size),\n",
    "                                               replace=True, p=self.word_p)\n",
    "\n",
    "        return negative_sample\n"
   ]
  },
  {
   "cell_type": "code",
   "execution_count": 6,
   "id": "89b9af9d",
   "metadata": {},
   "outputs": [
    {
     "name": "stdout",
     "output_type": "stream",
     "text": [
      "[[3 0]\n",
      " [0 2]\n",
      " [2 3]]\n"
     ]
    }
   ],
   "source": [
    "corpus = np.array([0,1,2,3,4,1,2,3])\n",
    "power = 0.75\n",
    "sample_size = 2\n",
    "\n",
    "\n",
    "# 긍정적 예로 3개의 데이터를 미니배치로 다룸\n",
    "# 각각의 데이터에 대해 부정적 예를 2개씩 샘플링\n",
    "# ex) 첫 번째 데이터에 대한 부정적 예 -> [0,3]\n",
    "sample = UnigramSampler(corpus, power, sample_size)\n",
    "target = np.array([1,3,0])\n",
    "negative_sample = sample.get_negative_sample(target)\n",
    "print(negative_sample)"
   ]
  },
  {
   "cell_type": "markdown",
   "id": "03b04596",
   "metadata": {},
   "source": [
    "### 네거티브 샘플링 구현"
   ]
  },
  {
   "cell_type": "code",
   "execution_count": 10,
   "id": "d15dd19e",
   "metadata": {},
   "outputs": [],
   "source": [
    "class NegativeSamplingLoss:\n",
    "    def __init__(self, W, corpus, power=0.75, sample_size=5):\n",
    "        self.sample_size = sample_size\n",
    "        self.sampler = UnigramSampler(corpus, power, sample_size)\n",
    "        self.loss_layers = [SigmoidWithLoss() for _ in range(sample_size + 1)]\n",
    "        self.embed_dot_layers = [EmbeddingDot(W) for _ in range(sample_size + 1)]\n",
    "\n",
    "        self.params, self.grads = [], []\n",
    "        for layer in self.embed_dot_layers:\n",
    "            self.params += layer.params\n",
    "            self.grads += layer.grads\n",
    "\n",
    "    def forward(self, h, target):\n",
    "        batch_size = target.shape[0]\n",
    "        negative_sample = self.sampler.get_negative_sample(target)\n",
    "\n",
    "        # 긍정적 예 순전파\n",
    "        score = self.embed_dot_layers[0].forward(h, target)\n",
    "        correct_label = np.ones(batch_size, dtype=np.int32)\n",
    "        loss = self.loss_layers[0].forward(score, correct_label)\n",
    "\n",
    "        # 부정적 예 순전파\n",
    "        negative_label = np.zeros(batch_size, dtype=np.int32)\n",
    "        for i in range(self.sample_size):\n",
    "            negative_target = negative_sample[:, i]\n",
    "            score = self.embed_dot_layers[1 + i].forward(h, negative_target)\n",
    "            loss += self.loss_layers[1 + i].forward(score, negative_label)\n",
    "\n",
    "        return loss\n",
    "\n",
    "    def backward(self, dout=1):\n",
    "        dh = 0\n",
    "        for l0, l1 in zip(self.loss_layers, self.embed_dot_layers):\n",
    "            dscore = l0.backward(dout)\n",
    "            dh += l1.backward(dscore)\n",
    "\n",
    "        return dh"
   ]
  },
  {
   "cell_type": "code",
   "execution_count": 11,
   "id": "14fab72b",
   "metadata": {},
   "outputs": [],
   "source": [
    "from common.np import *  # import numpy as np\n",
    "from common.layers import Embedding\n",
    "\n",
    "class CBOW:\n",
    "    def __init__(self, vocab_size, hidden_size, window_size, corpus):\n",
    "        V, H = vocab_size, hidden_size\n",
    "\n",
    "        # 가중치 초기화\n",
    "        W_in = 0.01 * np.random.randn(V, H).astype('f')\n",
    "        W_out = 0.01 * np.random.randn(V, H).astype('f')\n",
    "\n",
    "        # 계층 생성\n",
    "        self.in_layers = []\n",
    "        for i in range(2 * window_size):\n",
    "            layer = Embedding(W_in)  # Embedding 계층 사용\n",
    "            self.in_layers.append(layer)\n",
    "        self.ns_loss = NegativeSamplingLoss(W_out, corpus, power=0.75, sample_size=5)\n",
    "\n",
    "        # 모든 가중치와 기울기를 배열에 모은다.\n",
    "        layers = self.in_layers + [self.ns_loss]\n",
    "        self.params, self.grads = [], []\n",
    "        for layer in layers:\n",
    "            self.params += layer.params\n",
    "            self.grads += layer.grads\n",
    "\n",
    "        # 인스턴스 변수에 단어의 분산 표현을 저장한다.\n",
    "        self.word_vecs = W_in\n",
    "\n",
    "    def forward(self, contexts, target):\n",
    "        h = 0\n",
    "        for i, layer in enumerate(self.in_layers):\n",
    "            h += layer.forward(contexts[:, i])\n",
    "        h *= 1 / len(self.in_layers)\n",
    "        loss = self.ns_loss.forward(h, target)\n",
    "        return loss\n",
    "\n",
    "    def backward(self, dout=1):\n",
    "        dout = self.ns_loss.backward(dout)\n",
    "        dout *= 1 / len(self.in_layers)\n",
    "        for layer in self.in_layers:\n",
    "            layer.backward(dout)\n",
    "        return None"
   ]
  },
  {
   "cell_type": "code",
   "execution_count": null,
   "id": "dcb565c0",
   "metadata": {},
   "outputs": [],
   "source": [
    "import numpy as np\n",
    "# from common import config\n",
    "# GPU에서 실행하려면 아래 주석을 해제하세요(CuPy 필요).\n",
    "# ===============================================\n",
    "# config.GPU = True\n",
    "# ===============================================\n",
    "import pickle\n",
    "from common.trainer import Trainer\n",
    "from common.optimizer import Adam\n",
    "from common.util import create_contexts_target, to_cpu, to_gpu\n",
    "from dataset import ptb\n",
    "\n",
    "\n",
    "# 하이퍼파라미터 설정\n",
    "window_size = 5\n",
    "hidden_size = 100\n",
    "batch_size = 100\n",
    "max_epoch = 10\n",
    "\n",
    "# 데이터 읽기\n",
    "corpus, word_to_id, id_to_word = ptb.load_data('train')\n",
    "vocab_size = len(word_to_id)\n",
    "\n",
    "contexts, target = create_contexts_target(corpus, window_size)\n",
    "# if config.GPU:\n",
    "#     contexts, target = to_gpu(contexts), to_gpu(target)\n",
    "\n",
    "# 모델 등 생성\n",
    "model = CBOW(vocab_size, hidden_size, window_size, corpus)\n",
    "# model = SkipGram(vocab_size, hidden_size, window_size, corpus)\n",
    "optimizer = Adam()\n",
    "trainer = Trainer(model, optimizer)\n",
    "\n",
    "# 학습 시작\n",
    "trainer.fit(contexts, target, max_epoch, batch_size)\n",
    "trainer.plot()\n",
    "\n",
    "# 나중에 사용할 수 있도록 필요한 데이터 저장\n",
    "word_vecs = model.word_vecs\n",
    "if config.GPU:\n",
    "    word_vecs = to_cpu(word_vecs)\n",
    "params = {}\n",
    "params['word_vecs'] = word_vecs.astype(np.float16)\n",
    "params['word_to_id'] = word_to_id\n",
    "params['id_to_word'] = id_to_word\n",
    "pkl_file = 'cbow_params.pkl'  # or 'skipgram_params.pkl'\n",
    "with open(pkl_file, 'wb') as f:\n",
    "    pickle.dump(params, f, -1)"
   ]
  }
 ],
 "metadata": {
  "kernelspec": {
   "display_name": "torch",
   "language": "python",
   "name": "deep_torch"
  },
  "language_info": {
   "codemirror_mode": {
    "name": "ipython",
    "version": 3
   },
   "file_extension": ".py",
   "mimetype": "text/x-python",
   "name": "python",
   "nbconvert_exporter": "python",
   "pygments_lexer": "ipython3",
   "version": "3.10.6"
  }
 },
 "nbformat": 4,
 "nbformat_minor": 5
}
